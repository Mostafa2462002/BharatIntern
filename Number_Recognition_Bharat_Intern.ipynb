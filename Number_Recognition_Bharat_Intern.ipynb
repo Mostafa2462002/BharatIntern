{
 "cells": [
  {
   "cell_type": "markdown",
   "id": "7c536076",
   "metadata": {},
   "source": [
    "# Import the manipulation libraries as well as the ML and DL library"
   ]
  },
  {
   "cell_type": "code",
   "execution_count": 1,
   "id": "5bd16ca8",
   "metadata": {},
   "outputs": [],
   "source": [
    "import numpy as np\n",
    "import pandas as pd \n",
    "import matplotlib.pyplot as plt\n",
    "#for data manipulation and visualization\n",
    "\n",
    "import tensorflow as tf\n",
    "from tensorflow.keras.models import Sequential\n",
    "from tensorflow.keras.layers import Dense\n",
    "#for building the model"
   ]
  },
  {
   "cell_type": "code",
   "execution_count": 2,
   "id": "a5e42626",
   "metadata": {
    "scrolled": true
   },
   "outputs": [
    {
     "data": {
      "text/html": [
       "<div>\n",
       "<style scoped>\n",
       "    .dataframe tbody tr th:only-of-type {\n",
       "        vertical-align: middle;\n",
       "    }\n",
       "\n",
       "    .dataframe tbody tr th {\n",
       "        vertical-align: top;\n",
       "    }\n",
       "\n",
       "    .dataframe thead th {\n",
       "        text-align: right;\n",
       "    }\n",
       "</style>\n",
       "<table border=\"1\" class=\"dataframe\">\n",
       "  <thead>\n",
       "    <tr style=\"text-align: right;\">\n",
       "      <th></th>\n",
       "      <th>label</th>\n",
       "      <th>1x1</th>\n",
       "      <th>1x2</th>\n",
       "      <th>1x3</th>\n",
       "      <th>1x4</th>\n",
       "      <th>1x5</th>\n",
       "      <th>1x6</th>\n",
       "      <th>1x7</th>\n",
       "      <th>1x8</th>\n",
       "      <th>1x9</th>\n",
       "      <th>...</th>\n",
       "      <th>28x19</th>\n",
       "      <th>28x20</th>\n",
       "      <th>28x21</th>\n",
       "      <th>28x22</th>\n",
       "      <th>28x23</th>\n",
       "      <th>28x24</th>\n",
       "      <th>28x25</th>\n",
       "      <th>28x26</th>\n",
       "      <th>28x27</th>\n",
       "      <th>28x28</th>\n",
       "    </tr>\n",
       "  </thead>\n",
       "  <tbody>\n",
       "    <tr>\n",
       "      <th>0</th>\n",
       "      <td>5</td>\n",
       "      <td>0</td>\n",
       "      <td>0</td>\n",
       "      <td>0</td>\n",
       "      <td>0</td>\n",
       "      <td>0</td>\n",
       "      <td>0</td>\n",
       "      <td>0</td>\n",
       "      <td>0</td>\n",
       "      <td>0</td>\n",
       "      <td>...</td>\n",
       "      <td>0</td>\n",
       "      <td>0</td>\n",
       "      <td>0</td>\n",
       "      <td>0</td>\n",
       "      <td>0</td>\n",
       "      <td>0</td>\n",
       "      <td>0</td>\n",
       "      <td>0</td>\n",
       "      <td>0</td>\n",
       "      <td>0</td>\n",
       "    </tr>\n",
       "  </tbody>\n",
       "</table>\n",
       "<p>1 rows × 785 columns</p>\n",
       "</div>"
      ],
      "text/plain": [
       "   label  1x1  1x2  1x3  1x4  1x5  1x6  1x7  1x8  1x9  ...  28x19  28x20  \\\n",
       "0      5    0    0    0    0    0    0    0    0    0  ...      0      0   \n",
       "\n",
       "   28x21  28x22  28x23  28x24  28x25  28x26  28x27  28x28  \n",
       "0      0      0      0      0      0      0      0      0  \n",
       "\n",
       "[1 rows x 785 columns]"
      ]
     },
     "execution_count": 2,
     "metadata": {},
     "output_type": "execute_result"
    }
   ],
   "source": [
    "dftr = pd.read_csv('mnist_train.csv')\n",
    "dfts = pd.read_csv('mnist_test.csv')\n",
    "dftr.head(1)"
   ]
  },
  {
   "cell_type": "markdown",
   "id": "e8296cf0",
   "metadata": {},
   "source": [
    "# The data is flattened and each row represents an image"
   ]
  },
  {
   "cell_type": "code",
   "execution_count": 3,
   "id": "b750adfe",
   "metadata": {
    "scrolled": false
   },
   "outputs": [
    {
     "name": "stdout",
     "output_type": "stream",
     "text": [
      "10\n"
     ]
    },
    {
     "data": {
      "text/plain": [
       "3"
      ]
     },
     "execution_count": 3,
     "metadata": {},
     "output_type": "execute_result"
    },
    {
     "data": {
      "image/png": "[encoded data removed]",
      "text/plain": [
       "<Figure size 640x480 with 1 Axes>"
      ]
     },
     "metadata": {},
     "output_type": "display_data"
    }
   ],
   "source": [
    "input1 = int(input()) #just to choose which photo you want to plot\n",
    "x=dftr.iloc[input1,:]\n",
    "img1=x.to_numpy()[1:].reshape(28,28)\n",
    "label1 = x.iloc[0]\n",
    "plt.imshow(img1,cmap='gray') #just to show the image \n",
    "label1"
   ]
  },
  {
   "cell_type": "code",
   "execution_count": 4,
   "id": "768462b4",
   "metadata": {},
   "outputs": [],
   "source": [
    "# Extract features and labels\n",
    "x_train = dftr.iloc[:, 1:]  # Extracting features from columns 1 to 784\n",
    "y_train = dftr.iloc[:, 0]    # Extracting labels from the first column\n",
    "x_test = dfts.iloc[:, 1:]\n",
    "y_test = dfts.iloc[:, 0]"
   ]
  },
  {
   "cell_type": "code",
   "execution_count": 5,
   "id": "df6efe96",
   "metadata": {},
   "outputs": [],
   "source": [
    "#Normalizing the data by dividing by 255 as the pixel value ranges from 0 to 255 \n",
    "# 255 is just to make the normalization value between 0 and 1 which is a good approach to normalization\n",
    "x_train = x_train / 255.0\n",
    "x_test = x_test / 255.0\n"
   ]
  },
  {
   "cell_type": "code",
   "execution_count": 6,
   "id": "5d9b174d",
   "metadata": {
    "scrolled": false
   },
   "outputs": [
    {
     "name": "stdout",
     "output_type": "stream",
     "text": [
      "Epoch 1/10\n",
      "1875/1875 [==============================] - 5s 2ms/step - loss: 0.2847 - accuracy: 0.9179 - val_loss: 0.1598 - val_accuracy: 0.9518\n",
      "Epoch 2/10\n",
      "1875/1875 [==============================] - 4s 2ms/step - loss: 0.1272 - accuracy: 0.9621 - val_loss: 0.1168 - val_accuracy: 0.9651\n",
      "Epoch 3/10\n",
      "1875/1875 [==============================] - 4s 2ms/step - loss: 0.0935 - accuracy: 0.9718 - val_loss: 0.1164 - val_accuracy: 0.9655\n",
      "Epoch 4/10\n",
      "1875/1875 [==============================] - 4s 2ms/step - loss: 0.0718 - accuracy: 0.9779 - val_loss: 0.0943 - val_accuracy: 0.9725\n",
      "Epoch 5/10\n",
      "1875/1875 [==============================] - 4s 2ms/step - loss: 0.0601 - accuracy: 0.9815 - val_loss: 0.0972 - val_accuracy: 0.9727\n",
      "Epoch 6/10\n",
      "1875/1875 [==============================] - 4s 2ms/step - loss: 0.0517 - accuracy: 0.9839 - val_loss: 0.0919 - val_accuracy: 0.9740\n",
      "Epoch 7/10\n",
      "1875/1875 [==============================] - 4s 2ms/step - loss: 0.0436 - accuracy: 0.9863 - val_loss: 0.0896 - val_accuracy: 0.9753\n",
      "Epoch 8/10\n",
      "1875/1875 [==============================] - 4s 2ms/step - loss: 0.0375 - accuracy: 0.9880 - val_loss: 0.1016 - val_accuracy: 0.9706\n",
      "Epoch 9/10\n",
      "1875/1875 [==============================] - 4s 2ms/step - loss: 0.0331 - accuracy: 0.9893 - val_loss: 0.0936 - val_accuracy: 0.9758\n",
      "Epoch 10/10\n",
      "1875/1875 [==============================] - 4s 2ms/step - loss: 0.0298 - accuracy: 0.9898 - val_loss: 0.1079 - val_accuracy: 0.9715\n",
      "313/313 - 0s - loss: 0.1079 - accuracy: 0.9715 - 381ms/epoch - 1ms/step\n",
      "Test accuracy: 0.9714999794960022\n"
     ]
    }
   ],
   "source": [
    "\n",
    "\n",
    "# Create a sequential model\n",
    "model = Sequential()\n",
    "\n",
    "# Add dense layers\n",
    "model.add(Dense(64, activation='relu'))  \n",
    "model.add(Dense(32, activation='relu'))\n",
    "model.add(Dense(10, activation='softmax')) \n",
    "\n",
    "# Compile the model\n",
    "model.compile(optimizer='adam',\n",
    "              loss='sparse_categorical_crossentropy',\n",
    "              metrics=['accuracy'])\n",
    "\n",
    "# Train the model\n",
    "model.fit(x_train, y_train, epochs=10, validation_data=(x_test, y_test))\n",
    "\n",
    "# Evaluate the model on the test data\n",
    "test_loss, test_acc = model.evaluate(x_test, y_test, verbose=2)\n",
    "print(f\"Test accuracy: {test_acc}\")\n"
   ]
  },
  {
   "cell_type": "markdown",
   "id": "ac8d6a3f",
   "metadata": {},
   "source": [
    "## Based on the results the conclusion of our model is that if we had to give it 10 photos consisting of a digit it would classify 9 photos out of the 10 the right classification"
   ]
  },
  {
   "cell_type": "markdown",
   "id": "ce4c9aa0",
   "metadata": {},
   "source": [
    "## Plotting the missclassified values"
   ]
  },
  {
   "cell_type": "code",
   "execution_count": 7,
   "id": "54b40e97",
   "metadata": {},
   "outputs": [
    {
     "name": "stdout",
     "output_type": "stream",
     "text": [
      "313/313 [==============================] - 0s 1ms/step\n",
      "10\n"
     ]
    },
    {
     "data": {
      "image/png": "[encoded data removed]",
      "text/plain": [
       "<Figure size 1000x1000 with 10 Axes>"
      ]
     },
     "metadata": {},
     "output_type": "display_data"
    }
   ],
   "source": [
    "\n",
    "\n",
    "predictions = model.predict(x_test) # getting the probability for each label\n",
    "predicted_labels = np.argmax(predictions, axis=1) # choosing the index of the highest probability \n",
    "misclassified_indices = np.where(predicted_labels != y_test)[0] \n",
    "#checking with where function to get the missclassified datapoints\n",
    "\n",
    "\n",
    "\n",
    "\n",
    "num_images_to_plot = int(input())\n",
    "plt.figure(figsize=(10, 10))\n",
    "for i in range(num_images_to_plot):\n",
    "    index = misclassified_indices[i]\n",
    "    plt.subplot(1, num_images_to_plot, i + 1)\n",
    "    plt.imshow(x_test.to_numpy()[index].reshape(28, 28), cmap='gray')  # Reshape to the original image size\n",
    "    plt.title(f\"Predicted: {predicted_labels[index]}\\nActual: {y_test[index]}\")\n",
    "    plt.axis('off')\n",
    "\n",
    "plt.tight_layout()\n",
    "plt.show()"
   ]
  },
  {
   "cell_type": "code",
   "execution_count": null,
   "id": "23528ed8",
   "metadata": {},
   "outputs": [],
   "source": []
  }
 ],
 "metadata": {
  "kernelspec": {
   "display_name": "Python 3 (ipykernel)",
   "language": "python",
   "name": "python3"
  },
  "language_info": {
   "codemirror_mode": {
    "name": "ipython",
    "version": 3
   },
   "file_extension": ".py",
   "mimetype": "text/x-python",
   "name": "python",
   "nbconvert_exporter": "python",
   "pygments_lexer": "ipython3",
   "version": "3.9.12"
  }
 },
 "nbformat": 4,
 "nbformat_minor": 5
}
